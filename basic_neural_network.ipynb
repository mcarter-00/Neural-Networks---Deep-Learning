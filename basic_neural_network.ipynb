{
 "cells": [
  {
   "cell_type": "markdown",
   "metadata": {},
   "source": [
    "### Basic Neural Network"
   ]
  },
  {
   "cell_type": "code",
   "execution_count": 1,
   "metadata": {},
   "outputs": [],
   "source": [
    "# Import our dependencies\n",
    "import pandas as pd\n",
    "import matplotlib as plt\n",
    "from sklearn.datasets import make_blobs\n",
    "import sklearn as skl\n",
    "import tensorflow as tf"
   ]
  },
  {
   "cell_type": "code",
   "execution_count": 2,
   "metadata": {},
   "outputs": [
    {
     "data": {
      "text/plain": [
       "<matplotlib.axes._subplots.AxesSubplot at 0x1a45bbcb10>"
      ]
     },
     "execution_count": 2,
     "metadata": {},
     "output_type": "execute_result"
    },
    {
     "data": {
      "image/png": "[encoded data removed]",
      "text/plain": [
       "<Figure size 432x288 with 2 Axes>"
      ]
     },
     "metadata": {
      "needs_background": "light"
     },
     "output_type": "display_data"
    }
   ],
   "source": [
    "# Generate dummy dataset\n",
    "X, y = make_blobs(n_samples = 1000, \n",
    "                  centers = 2, \n",
    "                  n_features = 2, \n",
    "                  random_state = 78)\n",
    "\n",
    "# Creating a DataFrame with the dummy data\n",
    "df = pd.DataFrame(X, columns = [\"Feature 1\", \"Feature 2\"])\n",
    "df[\"Target\"] = y\n",
    "\n",
    "# Plotting the dummy data\n",
    "df.plot.scatter(x = \"Feature 1\", \n",
    "                y = \"Feature 2\", \n",
    "                c = \"Target\", \n",
    "                colormap = \"winter\")"
   ]
  },
  {
   "cell_type": "markdown",
   "metadata": {},
   "source": [
    "The **make_blobs** is used to create sample values and contains many parameters that change the shape and values of the sample dataset. Here, we're using make_blobs method to create 1,000 samples with two features (also known as our x- and y-axis values) that are linearly separable into two groups. "
   ]
  },
  {
   "cell_type": "code",
   "execution_count": 3,
   "metadata": {},
   "outputs": [],
   "source": [
    "# Use sklearn to split dataset\n",
    "from sklearn.model_selection import train_test_split\n",
    "\n",
    "X_train, X_test, y_train, y_test = train_test_split(X, y, random_state = 78)"
   ]
  },
  {
   "cell_type": "markdown",
   "metadata": {},
   "source": [
    "Once dummy data is generated, split data into training and test datasets using Scikit-learn’s train_test_split method."
   ]
  },
  {
   "cell_type": "code",
   "execution_count": 4,
   "metadata": {},
   "outputs": [],
   "source": [
    "# Create scaler instance\n",
    "X_scaler = skl.preprocessing.StandardScaler()\n",
    "\n",
    "# Fit the scaler\n",
    "X_scaler.fit(X_train)\n",
    "\n",
    "# Scale the data\n",
    "X_train_scaled = X_scaler.transform(X_train)\n",
    "X_test_scaled = X_scaler.transform(X_test)"
   ]
  },
  {
   "cell_type": "markdown",
   "metadata": {},
   "source": [
    "Once training data is generated, prepare the dataset for neural network model. \n",
    "\n",
    "NOTE 1: Like any machine learning algorithm, it is crucial to normalize/standardize numerical variables to ensure that our neural network does not focus on outliers and can apply proper weights to each input. \n",
    "\n",
    "NOTE 2: In most cases, the more input variables that are normalized to the same scale, the more stable the neural network model is, and the better the neural network model will generalize."
   ]
  },
  {
   "cell_type": "code",
   "execution_count": 5,
   "metadata": {},
   "outputs": [],
   "source": [
    "# Create the Keras Sequential model\n",
    "nn_model = tf.keras.models.Sequential()"
   ]
  },
  {
   "cell_type": "markdown",
   "metadata": {},
   "source": [
    "Data is ready for our first neural network model! To create the neural network in our notebook, first create our Sequential model.\n",
    "\n",
    "NOTE: The **nn_model** object will store the entire architecture of our neural network model."
   ]
  },
  {
   "cell_type": "code",
   "execution_count": 6,
   "metadata": {},
   "outputs": [],
   "source": [
    "# Add our first Dense layer, including the input layer\n",
    "nn_model.add(tf.keras.layers.Dense(units = 1, \n",
    "                                   activation = \"relu\", \n",
    "                                   input_dim = 2))"
   ]
  },
  {
   "cell_type": "markdown",
   "metadata": {},
   "source": [
    "Add layers to our Sequential model using **Keras’ Dense class**. For our first layer, define a few parameters:\n",
    "* The **units** parameter indicates how many neurons we want in the hidden layer.\n",
    "* The **activation** parameter indicates which activation function to use. ReLU activation function allows our hidden layer to identify and train on nonlinear relationships in the dataset.\n",
    "* The **input_dim** parameter indicates how many inputs will be in the model."
   ]
  },
  {
   "cell_type": "code",
   "execution_count": 7,
   "metadata": {},
   "outputs": [],
   "source": [
    "# Add the output layer that uses a probability activation function\n",
    "nn_model.add(tf.keras.layers.Dense(units = 1, \n",
    "                                   activation = \"sigmoid\"))"
   ]
  },
  {
   "cell_type": "markdown",
   "metadata": {},
   "source": [
    "Use the **Dense class** to tell our Sequential model what to do with the data. This time, we only need to supply the number of output neurons. \n",
    "* For a classification model, we only want a yes/no binary decision; therefore, we only need **one output neuron**. \n",
    "* In our previous layer, we used a ReLU activation function to enable nonlinear relationships; however, for our classification output, we want to use a **sigmoid activation function** to produce a probability output."
   ]
  },
  {
   "cell_type": "code",
   "execution_count": 8,
   "metadata": {},
   "outputs": [
    {
     "name": "stdout",
     "output_type": "stream",
     "text": [
      "Model: \"sequential\"\n",
      "_________________________________________________________________\n",
      "Layer (type)                 Output Shape              Param #   \n",
      "=================================================================\n",
      "dense (Dense)                (None, 1)                 3         \n",
      "_________________________________________________________________\n",
      "dense_1 (Dense)              (None, 1)                 2         \n",
      "=================================================================\n",
      "Total params: 5\n",
      "Trainable params: 5\n",
      "Non-trainable params: 0\n",
      "_________________________________________________________________\n"
     ]
    }
   ],
   "source": [
    "# Check the structure of the Sequential model\n",
    "nn_model.summary()"
   ]
  },
  {
   "cell_type": "markdown",
   "metadata": {},
   "source": [
    "Note that the number of parameters in each layer does not equal the number of neurons we defined in the notebook. Remember, every layer has one additional input known as our bias term (or weighted constant)."
   ]
  },
  {
   "cell_type": "code",
   "execution_count": 9,
   "metadata": {},
   "outputs": [],
   "source": [
    "# Compile the Sequential model together and customize metrics\n",
    "nn_model.compile(loss = \"binary_crossentropy\", \n",
    "                 optimizer = \"adam\", \n",
    "                 metrics = [\"accuracy\"])"
   ]
  },
  {
   "cell_type": "markdown",
   "metadata": {},
   "source": [
    "* The **loss** metric is used by machine learning algorithms to score the performance of the model through each iteration and epoch by evaluating the inaccuracy of a single input. \n",
    "    * We’ll use **binary_crossentropy**, which is specifically designed to evaluate a binary classification model.\n",
    "* The **optimization** function shapes and molds a neural network model while it is being trained to ensure that it performs to the best of its ability. \n",
    "    * To enhance the performance of our classification neural network, we’ll use the **adam** optimizer, which uses a gradient descent approach to ensure that the algorithm will not get stuck on weaker classifying variables and features.\n",
    "* In addition to the optimization function and loss metric, we’ll also add a more reader-friendly **evaluation metric**, which measures the quality of the machine learning model. \n",
    "    * There are two main types of evaluation metrics:\n",
    "        * The model predictive accuracy\n",
    "        * The model mean squared error (MSE)\n",
    "            * We use accuracy for classification models and mse for regression models. For model predictive accuracy, the higher the number the better, whereas for regression models, MSE should reduce to zero."
   ]
  },
  {
   "cell_type": "markdown",
   "metadata": {},
   "source": [
    "*** At last, our Sequential neural network is modeled and compiled, so now we can move onto training/fitting our model to the dummy data. ***"
   ]
  },
  {
   "cell_type": "code",
   "execution_count": 10,
   "metadata": {},
   "outputs": [
    {
     "name": "stdout",
     "output_type": "stream",
     "text": [
      "Train on 750 samples\n",
      "Epoch 1/100\n",
      "750/750 [==============================] - 1s 2ms/sample - loss: 0.9748 - accuracy: 0.1373\n",
      "Epoch 2/100\n",
      "750/750 [==============================] - 0s 173us/sample - loss: 0.9357 - accuracy: 0.0027\n",
      "Epoch 3/100\n",
      "750/750 [==============================] - 0s 153us/sample - loss: 0.9004 - accuracy: 0.0040\n",
      "Epoch 4/100\n",
      "750/750 [==============================] - 0s 196us/sample - loss: 0.8692 - accuracy: 0.0067\n",
      "Epoch 5/100\n",
      "750/750 [==============================] - 0s 235us/sample - loss: 0.8404 - accuracy: 0.0107\n",
      "Epoch 6/100\n",
      "750/750 [==============================] - 0s 147us/sample - loss: 0.8152 - accuracy: 0.0133\n",
      "Epoch 7/100\n",
      "750/750 [==============================] - 0s 216us/sample - loss: 0.7916 - accuracy: 0.0333\n",
      "Epoch 8/100\n",
      "750/750 [==============================] - 0s 169us/sample - loss: 0.7708 - accuracy: 0.0653\n",
      "Epoch 9/100\n",
      "750/750 [==============================] - 0s 143us/sample - loss: 0.7519 - accuracy: 0.1067\n",
      "Epoch 10/100\n",
      "750/750 [==============================] - 0s 166us/sample - loss: 0.7351 - accuracy: 0.1733\n",
      "Epoch 11/100\n",
      "750/750 [==============================] - 0s 250us/sample - loss: 0.7208 - accuracy: 0.2453\n",
      "Epoch 12/100\n",
      "750/750 [==============================] - 0s 139us/sample - loss: 0.7096 - accuracy: 0.3467\n",
      "Epoch 13/100\n",
      "750/750 [==============================] - 0s 163us/sample - loss: 0.7016 - accuracy: 0.4320\n",
      "Epoch 14/100\n",
      "750/750 [==============================] - 0s 184us/sample - loss: 0.6972 - accuracy: 0.4853\n",
      "Epoch 15/100\n",
      "750/750 [==============================] - 0s 172us/sample - loss: 0.6950 - accuracy: 0.5013\n",
      "Epoch 16/100\n",
      "750/750 [==============================] - 0s 185us/sample - loss: 0.6942 - accuracy: 0.5053\n",
      "Epoch 17/100\n",
      "750/750 [==============================] - 0s 175us/sample - loss: 0.6938 - accuracy: 0.5053\n",
      "Epoch 18/100\n",
      "750/750 [==============================] - 0s 155us/sample - loss: 0.6936 - accuracy: 0.5053\n",
      "Epoch 19/100\n",
      "750/750 [==============================] - 0s 254us/sample - loss: 0.6935 - accuracy: 0.5053\n",
      "Epoch 20/100\n",
      "750/750 [==============================] - 0s 174us/sample - loss: 0.6934 - accuracy: 0.5053\n",
      "Epoch 21/100\n",
      "750/750 [==============================] - 0s 189us/sample - loss: 0.6934 - accuracy: 0.5053\n",
      "Epoch 22/100\n",
      "750/750 [==============================] - 0s 165us/sample - loss: 0.6934 - accuracy: 0.5053\n",
      "Epoch 23/100\n",
      "750/750 [==============================] - 0s 139us/sample - loss: 0.6933 - accuracy: 0.5053\n",
      "Epoch 24/100\n",
      "750/750 [==============================] - 0s 147us/sample - loss: 0.6933 - accuracy: 0.5053\n",
      "Epoch 25/100\n",
      "750/750 [==============================] - 0s 180us/sample - loss: 0.6933 - accuracy: 0.5053\n",
      "Epoch 26/100\n",
      "750/750 [==============================] - 0s 221us/sample - loss: 0.6932 - accuracy: 0.5053\n",
      "Epoch 27/100\n",
      "750/750 [==============================] - 0s 167us/sample - loss: 0.6932 - accuracy: 0.5053\n",
      "Epoch 28/100\n",
      "750/750 [==============================] - 0s 178us/sample - loss: 0.6932 - accuracy: 0.5053\n",
      "Epoch 29/100\n",
      "750/750 [==============================] - 0s 176us/sample - loss: 0.6932 - accuracy: 0.5053\n",
      "Epoch 30/100\n",
      "750/750 [==============================] - 0s 190us/sample - loss: 0.6932 - accuracy: 0.5053\n",
      "Epoch 31/100\n",
      "750/750 [==============================] - 0s 160us/sample - loss: 0.6932 - accuracy: 0.5067\n",
      "Epoch 32/100\n",
      "750/750 [==============================] - 0s 203us/sample - loss: 0.6932 - accuracy: 0.5067\n",
      "Epoch 33/100\n",
      "750/750 [==============================] - 0s 210us/sample - loss: 0.6931 - accuracy: 0.5067\n",
      "Epoch 34/100\n",
      "750/750 [==============================] - 0s 160us/sample - loss: 0.6931 - accuracy: 0.5067\n",
      "Epoch 35/100\n",
      "750/750 [==============================] - 0s 175us/sample - loss: 0.6931 - accuracy: 0.5053\n",
      "Epoch 36/100\n",
      "750/750 [==============================] - 0s 163us/sample - loss: 0.6932 - accuracy: 0.5053\n",
      "Epoch 37/100\n",
      "750/750 [==============================] - 0s 228us/sample - loss: 0.6931 - accuracy: 0.5053\n",
      "Epoch 38/100\n",
      "750/750 [==============================] - 0s 192us/sample - loss: 0.6931 - accuracy: 0.5067\n",
      "Epoch 39/100\n",
      "750/750 [==============================] - 0s 214us/sample - loss: 0.6931 - accuracy: 0.5067\n",
      "Epoch 40/100\n",
      "750/750 [==============================] - 0s 200us/sample - loss: 0.6931 - accuracy: 0.5067\n",
      "Epoch 41/100\n",
      "750/750 [==============================] - 0s 161us/sample - loss: 0.6931 - accuracy: 0.5067\n",
      "Epoch 42/100\n",
      "750/750 [==============================] - 0s 183us/sample - loss: 0.6931 - accuracy: 0.5067\n",
      "Epoch 43/100\n",
      "750/750 [==============================] - 0s 193us/sample - loss: 0.6931 - accuracy: 0.5067\n",
      "Epoch 44/100\n",
      "750/750 [==============================] - 0s 160us/sample - loss: 0.6931 - accuracy: 0.5067\n",
      "Epoch 45/100\n",
      "750/750 [==============================] - 0s 179us/sample - loss: 0.6931 - accuracy: 0.5067\n",
      "Epoch 46/100\n",
      "750/750 [==============================] - 0s 175us/sample - loss: 0.6931 - accuracy: 0.5067\n",
      "Epoch 47/100\n",
      "750/750 [==============================] - 0s 240us/sample - loss: 0.6931 - accuracy: 0.5067\n",
      "Epoch 48/100\n",
      "750/750 [==============================] - 0s 141us/sample - loss: 0.6931 - accuracy: 0.5067\n",
      "Epoch 49/100\n",
      "750/750 [==============================] - 0s 179us/sample - loss: 0.6931 - accuracy: 0.5067\n",
      "Epoch 50/100\n",
      "750/750 [==============================] - 0s 195us/sample - loss: 0.6931 - accuracy: 0.5067\n",
      "Epoch 51/100\n",
      "750/750 [==============================] - 0s 171us/sample - loss: 0.6931 - accuracy: 0.5067\n",
      "Epoch 52/100\n",
      "750/750 [==============================] - 0s 166us/sample - loss: 0.6931 - accuracy: 0.5067\n",
      "Epoch 53/100\n",
      "750/750 [==============================] - 0s 195us/sample - loss: 0.6931 - accuracy: 0.5067\n",
      "Epoch 54/100\n",
      "750/750 [==============================] - 0s 283us/sample - loss: 0.6931 - accuracy: 0.5067\n",
      "Epoch 55/100\n",
      "750/750 [==============================] - 0s 156us/sample - loss: 0.6931 - accuracy: 0.5067\n",
      "Epoch 56/100\n",
      "750/750 [==============================] - 0s 179us/sample - loss: 0.6931 - accuracy: 0.5067\n",
      "Epoch 57/100\n",
      "750/750 [==============================] - 0s 176us/sample - loss: 0.6931 - accuracy: 0.5067\n",
      "Epoch 58/100\n",
      "750/750 [==============================] - 0s 161us/sample - loss: 0.6931 - accuracy: 0.5067\n",
      "Epoch 59/100\n",
      "750/750 [==============================] - 0s 137us/sample - loss: 0.6931 - accuracy: 0.5067\n",
      "Epoch 60/100\n",
      "750/750 [==============================] - 0s 148us/sample - loss: 0.6931 - accuracy: 0.5067\n",
      "Epoch 61/100\n",
      "750/750 [==============================] - 0s 160us/sample - loss: 0.6931 - accuracy: 0.5067\n",
      "Epoch 62/100\n",
      "750/750 [==============================] - 0s 146us/sample - loss: 0.6931 - accuracy: 0.5067\n",
      "Epoch 63/100\n",
      "750/750 [==============================] - 0s 113us/sample - loss: 0.6931 - accuracy: 0.5067\n",
      "Epoch 64/100\n",
      "750/750 [==============================] - 0s 189us/sample - loss: 0.6931 - accuracy: 0.5067\n",
      "Epoch 65/100\n",
      "750/750 [==============================] - 0s 159us/sample - loss: 0.6931 - accuracy: 0.5067\n",
      "Epoch 66/100\n",
      "750/750 [==============================] - 0s 131us/sample - loss: 0.6931 - accuracy: 0.5067\n",
      "Epoch 67/100\n",
      "750/750 [==============================] - 0s 142us/sample - loss: 0.6931 - accuracy: 0.5067\n",
      "Epoch 68/100\n",
      "750/750 [==============================] - 0s 187us/sample - loss: 0.6931 - accuracy: 0.5067\n",
      "Epoch 69/100\n",
      "750/750 [==============================] - 0s 230us/sample - loss: 0.6931 - accuracy: 0.5067\n",
      "Epoch 70/100\n",
      "750/750 [==============================] - 0s 203us/sample - loss: 0.6931 - accuracy: 0.5067\n",
      "Epoch 71/100\n",
      "750/750 [==============================] - 0s 129us/sample - loss: 0.6931 - accuracy: 0.5067\n",
      "Epoch 72/100\n",
      "750/750 [==============================] - 0s 125us/sample - loss: 0.6931 - accuracy: 0.5067\n",
      "Epoch 73/100\n",
      "750/750 [==============================] - 0s 176us/sample - loss: 0.6931 - accuracy: 0.5067\n",
      "Epoch 74/100\n",
      "750/750 [==============================] - 0s 246us/sample - loss: 0.6931 - accuracy: 0.5067\n",
      "Epoch 75/100\n",
      "750/750 [==============================] - 0s 191us/sample - loss: 0.6931 - accuracy: 0.5067\n",
      "Epoch 76/100\n",
      "750/750 [==============================] - 0s 148us/sample - loss: 0.6931 - accuracy: 0.5067\n",
      "Epoch 77/100\n",
      "750/750 [==============================] - 0s 123us/sample - loss: 0.6931 - accuracy: 0.5067\n",
      "Epoch 78/100\n"
     ]
    },
    {
     "name": "stdout",
     "output_type": "stream",
     "text": [
      "750/750 [==============================] - 0s 187us/sample - loss: 0.6931 - accuracy: 0.5067\n",
      "Epoch 79/100\n",
      "750/750 [==============================] - 0s 131us/sample - loss: 0.6931 - accuracy: 0.5067\n",
      "Epoch 80/100\n",
      "750/750 [==============================] - 0s 117us/sample - loss: 0.6931 - accuracy: 0.5067\n",
      "Epoch 81/100\n",
      "750/750 [==============================] - 0s 126us/sample - loss: 0.6931 - accuracy: 0.5067\n",
      "Epoch 82/100\n",
      "750/750 [==============================] - 0s 128us/sample - loss: 0.6931 - accuracy: 0.5067\n",
      "Epoch 83/100\n",
      "750/750 [==============================] - 0s 119us/sample - loss: 0.6931 - accuracy: 0.5067\n",
      "Epoch 84/100\n",
      "750/750 [==============================] - 0s 122us/sample - loss: 0.6931 - accuracy: 0.5067\n",
      "Epoch 85/100\n",
      "750/750 [==============================] - 0s 116us/sample - loss: 0.6931 - accuracy: 0.5067\n",
      "Epoch 86/100\n",
      "750/750 [==============================] - 0s 116us/sample - loss: 0.6931 - accuracy: 0.5067\n",
      "Epoch 87/100\n",
      "750/750 [==============================] - 0s 121us/sample - loss: 0.6931 - accuracy: 0.5067\n",
      "Epoch 88/100\n",
      "750/750 [==============================] - 0s 131us/sample - loss: 0.6931 - accuracy: 0.5067\n",
      "Epoch 89/100\n",
      "750/750 [==============================] - 0s 121us/sample - loss: 0.6931 - accuracy: 0.5067\n",
      "Epoch 90/100\n",
      "750/750 [==============================] - 0s 119us/sample - loss: 0.6931 - accuracy: 0.5067\n",
      "Epoch 91/100\n",
      "750/750 [==============================] - 0s 111us/sample - loss: 0.6931 - accuracy: 0.5067\n",
      "Epoch 92/100\n",
      "750/750 [==============================] - 0s 114us/sample - loss: 0.6931 - accuracy: 0.5067\n",
      "Epoch 93/100\n",
      "750/750 [==============================] - 0s 133us/sample - loss: 0.6931 - accuracy: 0.5067\n",
      "Epoch 94/100\n",
      "750/750 [==============================] - 0s 116us/sample - loss: 0.6931 - accuracy: 0.5067\n",
      "Epoch 95/100\n",
      "750/750 [==============================] - 0s 127us/sample - loss: 0.6931 - accuracy: 0.5067\n",
      "Epoch 96/100\n",
      "750/750 [==============================] - 0s 123us/sample - loss: 0.6931 - accuracy: 0.5067\n",
      "Epoch 97/100\n",
      "750/750 [==============================] - 0s 118us/sample - loss: 0.6931 - accuracy: 0.5067\n",
      "Epoch 98/100\n",
      "750/750 [==============================] - 0s 117us/sample - loss: 0.6931 - accuracy: 0.5067\n",
      "Epoch 99/100\n",
      "750/750 [==============================] - 0s 156us/sample - loss: 0.6931 - accuracy: 0.5067\n",
      "Epoch 100/100\n",
      "750/750 [==============================] - 0s 110us/sample - loss: 0.6931 - accuracy: 0.5067\n"
     ]
    }
   ],
   "source": [
    "# Fit the model to the training data\n",
    "fit_model = nn_model.fit(X_train_scaled, y_train, epochs = 100)"
   ]
  },
  {
   "cell_type": "markdown",
   "metadata": {},
   "source": [
    "Looking at the model training output, we know that the loss metric was 0.07 and the predictive accuracy is 1.0. This means that although our model performance had more loss than the simulation data, the model correctly classifies all of our training data, which is sufficient for our needs."
   ]
  },
  {
   "cell_type": "code",
   "execution_count": 11,
   "metadata": {},
   "outputs": [
    {
     "data": {
      "text/plain": [
       "<matplotlib.axes._subplots.AxesSubplot at 0x1a46b74850>"
      ]
     },
     "execution_count": 11,
     "metadata": {},
     "output_type": "execute_result"
    },
    {
     "data": {
      "image/png": "[encoded data removed]",
      "text/plain": [
       "<Figure size 432x288 with 1 Axes>"
      ]
     },
     "metadata": {
      "needs_background": "light"
     },
     "output_type": "display_data"
    }
   ],
   "source": [
    "# Create a DataFrame containing training history\n",
    "history_df = pd.DataFrame(fit_model.history, index = range(1, len(fit_model.history[\"loss\"]) + 1))\n",
    "\n",
    "# Plot the loss\n",
    "history_df.plot(y = \"loss\")"
   ]
  },
  {
   "cell_type": "code",
   "execution_count": 12,
   "metadata": {},
   "outputs": [
    {
     "data": {
      "text/plain": [
       "<matplotlib.axes._subplots.AxesSubplot at 0x1a4729c790>"
      ]
     },
     "execution_count": 12,
     "metadata": {},
     "output_type": "execute_result"
    },
    {
     "data": {
      "image/png": "[encoded data removed]",
      "text/plain": [
       "<Figure size 432x288 with 1 Axes>"
      ]
     },
     "metadata": {
      "needs_background": "light"
     },
     "output_type": "display_data"
    }
   ],
   "source": [
    "# Plot the accuracy\n",
    "history_df.plot(y=\"accuracy\")"
   ]
  },
  {
   "cell_type": "markdown",
   "metadata": {},
   "source": [
    "Based on the loss and accuracy plots, the neural network model took around 10 epochs before it started to fit the training data with high success. (NOTE: This will vary depending out model training output.)\n",
    "\n",
    "\n",
    "NOTE: When training completes, the model object stores the loss and accuracy metrics across all epochs, which we can use to visualize the training progress. In this example, we are visualizing our model’s loss over the full 100 epochs."
   ]
  },
  {
   "cell_type": "code",
   "execution_count": 13,
   "metadata": {},
   "outputs": [
    {
     "name": "stdout",
     "output_type": "stream",
     "text": [
      "250/1 - 0s - loss: 0.6920 - accuracy: 0.4800\n",
      "Loss: 0.6937656683921813, Accuracy: 0.47999998927116394\n"
     ]
    }
   ],
   "source": [
    "# Evaluate the model using the test data\n",
    "model_loss, model_accuracy = nn_model.evaluate(X_test_scaled, y_test, verbose = 2)\n",
    "print(f\"Loss: {model_loss}, Accuracy: {model_accuracy}\")"
   ]
  },
  {
   "cell_type": "markdown",
   "metadata": {},
   "source": [
    "Now that our model has been properly trained, we must evaluate model performance using the test data. \n",
    "\n",
    "Testing a neural network model in TensorFlow is very similar to testing a machine learning model in Scikit-learn. For our purposes, we’ll use the evaluate method and print the testing loss and accuracy values."
   ]
  },
  {
   "cell_type": "code",
   "execution_count": 14,
   "metadata": {},
   "outputs": [
    {
     "data": {
      "text/plain": [
       "array([[0],\n",
       "       [0],\n",
       "       [0],\n",
       "       [0],\n",
       "       [0],\n",
       "       [0],\n",
       "       [0],\n",
       "       [0],\n",
       "       [0],\n",
       "       [0]], dtype=int32)"
      ]
     },
     "execution_count": 14,
     "metadata": {},
     "output_type": "execute_result"
    }
   ],
   "source": [
    "# Predict the classification of a new set of blob data\n",
    "new_X, new_Y = make_blobs(n_samples = 10, \n",
    "                          centers = 2, \n",
    "                          n_features = 2, \n",
    "                          random_state = 78)\n",
    "\n",
    "new_X_scaled = X_scaler.transform(new_X)\n",
    "\n",
    "nn_model.predict_classes(new_X_scaled)"
   ]
  },
  {
   "cell_type": "markdown",
   "metadata": {},
   "source": [
    "Now that we have a trained neural network model and we have verified its performance using a test dataset, we can apply this model to novel datasets and predict the classification of a data point. In our Sequential model, we can use the appropriately named **predict_classes** method to generate predictions on new data."
   ]
  },
  {
   "cell_type": "markdown",
   "metadata": {},
   "source": [
    "### Simple linear regression and singular perceptron models work really well as a binary classifier when the data is linearly separable. But what about nonlinear data? How does our basic neural network model behave when data becomes more complicated? ###"
   ]
  },
  {
   "cell_type": "code",
   "execution_count": 15,
   "metadata": {},
   "outputs": [
    {
     "data": {
      "text/plain": [
       "<matplotlib.axes._subplots.AxesSubplot at 0x1a47659610>"
      ]
     },
     "execution_count": 15,
     "metadata": {},
     "output_type": "execute_result"
    },
    {
     "data": {
      "image/png": "[encoded data removed]",
      "text/plain": [
       "<Figure size 432x288 with 2 Axes>"
      ]
     },
     "metadata": {
      "needs_background": "light"
     },
     "output_type": "display_data"
    }
   ],
   "source": [
    "from sklearn.datasets import make_moons\n",
    "\n",
    "# Creating dummy nonlinear data\n",
    "X_moons, y_moons = make_moons(n_samples = 1000, \n",
    "                              noise = 0.08, \n",
    "                              random_state = 78)\n",
    "\n",
    "# Transforming y_moons to a vertical vector\n",
    "y_moons = y_moons.reshape(-1, 1)\n",
    "\n",
    "# Creating a DataFrame to plot the nonlinear dummy data\n",
    "df_moons = pd.DataFrame(X_moons, columns = [\"Feature 1\", \"Feature 2\"])\n",
    "df_moons[\"Target\"] = y_moons\n",
    "\n",
    "# Plot the nonlinear dummy data\n",
    "df_moons.plot.scatter(x = \"Feature 1\",\n",
    "                      y = \"Feature 2\", \n",
    "                      c = \"Target\",\n",
    "                      colormap = \"winter\")"
   ]
  },
  {
   "cell_type": "markdown",
   "metadata": {},
   "source": [
    "Here, we are generating some new dummy data --- some nonlinear moon-shaped data using Scikit-learn’s make_moons method and visualizing it using Pandas and Matplotlib."
   ]
  },
  {
   "cell_type": "code",
   "execution_count": 16,
   "metadata": {},
   "outputs": [],
   "source": [
    "# Create training and testing sets\n",
    "X_moon_train, X_moon_test, y_moon_train, y_moon_test = train_test_split(X_moons, \n",
    "                                                                        y_moons, \n",
    "                                                                        random_state = 78)\n",
    "\n",
    "# Create the scaler instance\n",
    "X_moon_scaler = skl.preprocessing.StandardScaler()\n",
    "\n",
    "# Fit the scaler\n",
    "X_moon_scaler.fit(X_moon_train)\n",
    "\n",
    "# Scale the data\n",
    "X_moon_train_scaled = X_moon_scaler.transform(X_moon_train)\n",
    "X_moon_test_scaled = X_moon_scaler.transform(X_moon_test)"
   ]
  },
  {
   "cell_type": "markdown",
   "metadata": {},
   "source": [
    "Like the previous dummy data example, we need to split our nonlinear data into training and testing datasets and normalize our datasets. "
   ]
  },
  {
   "cell_type": "code",
   "execution_count": 17,
   "metadata": {},
   "outputs": [
    {
     "name": "stdout",
     "output_type": "stream",
     "text": [
      "Train on 750 samples\n",
      "Epoch 1/100\n",
      "750/750 [==============================] - 0s 337us/sample - loss: 0.6924 - accuracy: 0.5307\n",
      "Epoch 2/100\n",
      "750/750 [==============================] - 0s 159us/sample - loss: 0.6923 - accuracy: 0.5307\n",
      "Epoch 3/100\n",
      "750/750 [==============================] - 0s 189us/sample - loss: 0.6921 - accuracy: 0.5307\n",
      "Epoch 4/100\n",
      "750/750 [==============================] - 0s 205us/sample - loss: 0.6920 - accuracy: 0.5307\n",
      "Epoch 5/100\n",
      "750/750 [==============================] - 0s 213us/sample - loss: 0.6920 - accuracy: 0.5307\n",
      "Epoch 6/100\n",
      "750/750 [==============================] - 0s 172us/sample - loss: 0.6918 - accuracy: 0.5307\n",
      "Epoch 7/100\n",
      "750/750 [==============================] - 0s 215us/sample - loss: 0.6918 - accuracy: 0.5307\n",
      "Epoch 8/100\n",
      "750/750 [==============================] - 0s 152us/sample - loss: 0.6917 - accuracy: 0.5307\n",
      "Epoch 9/100\n",
      "750/750 [==============================] - 0s 214us/sample - loss: 0.6916 - accuracy: 0.5307\n",
      "Epoch 10/100\n",
      "750/750 [==============================] - 0s 179us/sample - loss: 0.6916 - accuracy: 0.5307\n",
      "Epoch 11/100\n",
      "750/750 [==============================] - 0s 140us/sample - loss: 0.6915 - accuracy: 0.5307\n",
      "Epoch 12/100\n",
      "750/750 [==============================] - 0s 145us/sample - loss: 0.6915 - accuracy: 0.5307\n",
      "Epoch 13/100\n",
      "750/750 [==============================] - 0s 148us/sample - loss: 0.6915 - accuracy: 0.5307\n",
      "Epoch 14/100\n",
      "750/750 [==============================] - 0s 211us/sample - loss: 0.6915 - accuracy: 0.5307\n",
      "Epoch 15/100\n",
      "750/750 [==============================] - 0s 91us/sample - loss: 0.6914 - accuracy: 0.5307\n",
      "Epoch 16/100\n",
      "750/750 [==============================] - 0s 79us/sample - loss: 0.6914 - accuracy: 0.5307\n",
      "Epoch 17/100\n",
      "750/750 [==============================] - 0s 72us/sample - loss: 0.6914 - accuracy: 0.5307\n",
      "Epoch 18/100\n",
      "750/750 [==============================] - 0s 75us/sample - loss: 0.6913 - accuracy: 0.5307\n",
      "Epoch 19/100\n",
      "750/750 [==============================] - 0s 73us/sample - loss: 0.6913 - accuracy: 0.5307\n",
      "Epoch 20/100\n",
      "750/750 [==============================] - 0s 81us/sample - loss: 0.6914 - accuracy: 0.5307\n",
      "Epoch 21/100\n",
      "750/750 [==============================] - 0s 78us/sample - loss: 0.6913 - accuracy: 0.5307\n",
      "Epoch 22/100\n",
      "750/750 [==============================] - 0s 94us/sample - loss: 0.6913 - accuracy: 0.5307\n",
      "Epoch 23/100\n",
      "750/750 [==============================] - 0s 83us/sample - loss: 0.6913 - accuracy: 0.5307\n",
      "Epoch 24/100\n",
      "750/750 [==============================] - 0s 82us/sample - loss: 0.6914 - accuracy: 0.5307\n",
      "Epoch 25/100\n",
      "750/750 [==============================] - 0s 80us/sample - loss: 0.6913 - accuracy: 0.5307\n",
      "Epoch 26/100\n",
      "750/750 [==============================] - 0s 73us/sample - loss: 0.6913 - accuracy: 0.5307\n",
      "Epoch 27/100\n",
      "750/750 [==============================] - 0s 75us/sample - loss: 0.6913 - accuracy: 0.5307\n",
      "Epoch 28/100\n",
      "750/750 [==============================] - 0s 78us/sample - loss: 0.6913 - accuracy: 0.5307\n",
      "Epoch 29/100\n",
      "750/750 [==============================] - 0s 79us/sample - loss: 0.6913 - accuracy: 0.5307\n",
      "Epoch 30/100\n",
      "750/750 [==============================] - 0s 75us/sample - loss: 0.6913 - accuracy: 0.5307\n",
      "Epoch 31/100\n",
      "750/750 [==============================] - 0s 79us/sample - loss: 0.6913 - accuracy: 0.5307\n",
      "Epoch 32/100\n",
      "750/750 [==============================] - 0s 80us/sample - loss: 0.6913 - accuracy: 0.5307\n",
      "Epoch 33/100\n",
      "750/750 [==============================] - 0s 77us/sample - loss: 0.6913 - accuracy: 0.5307\n",
      "Epoch 34/100\n",
      "750/750 [==============================] - 0s 71us/sample - loss: 0.6913 - accuracy: 0.5307\n",
      "Epoch 35/100\n",
      "750/750 [==============================] - 0s 74us/sample - loss: 0.6913 - accuracy: 0.5307\n",
      "Epoch 36/100\n",
      "750/750 [==============================] - 0s 85us/sample - loss: 0.6913 - accuracy: 0.5307\n",
      "Epoch 37/100\n",
      "750/750 [==============================] - 0s 87us/sample - loss: 0.6913 - accuracy: 0.5307\n",
      "Epoch 38/100\n",
      "750/750 [==============================] - 0s 85us/sample - loss: 0.6913 - accuracy: 0.5307\n",
      "Epoch 39/100\n",
      "750/750 [==============================] - 0s 71us/sample - loss: 0.6913 - accuracy: 0.5307\n",
      "Epoch 40/100\n",
      "750/750 [==============================] - 0s 81us/sample - loss: 0.6913 - accuracy: 0.5307\n",
      "Epoch 41/100\n",
      "750/750 [==============================] - 0s 84us/sample - loss: 0.6913 - accuracy: 0.5307\n",
      "Epoch 42/100\n",
      "750/750 [==============================] - 0s 88us/sample - loss: 0.6913 - accuracy: 0.5307\n",
      "Epoch 43/100\n",
      "750/750 [==============================] - 0s 80us/sample - loss: 0.6913 - accuracy: 0.5307\n",
      "Epoch 44/100\n",
      "750/750 [==============================] - 0s 72us/sample - loss: 0.6913 - accuracy: 0.5307\n",
      "Epoch 45/100\n",
      "750/750 [==============================] - 0s 81us/sample - loss: 0.6913 - accuracy: 0.5307\n",
      "Epoch 46/100\n",
      "750/750 [==============================] - 0s 99us/sample - loss: 0.6913 - accuracy: 0.5307\n",
      "Epoch 47/100\n",
      "750/750 [==============================] - 0s 88us/sample - loss: 0.6913 - accuracy: 0.5307\n",
      "Epoch 48/100\n",
      "750/750 [==============================] - 0s 84us/sample - loss: 0.6913 - accuracy: 0.5307\n",
      "Epoch 49/100\n",
      "750/750 [==============================] - 0s 79us/sample - loss: 0.6913 - accuracy: 0.5307\n",
      "Epoch 50/100\n",
      "750/750 [==============================] - 0s 75us/sample - loss: 0.6913 - accuracy: 0.5307\n",
      "Epoch 51/100\n",
      "750/750 [==============================] - 0s 79us/sample - loss: 0.6913 - accuracy: 0.5307\n",
      "Epoch 52/100\n",
      "750/750 [==============================] - 0s 89us/sample - loss: 0.6913 - accuracy: 0.5307\n",
      "Epoch 53/100\n",
      "750/750 [==============================] - 0s 88us/sample - loss: 0.6913 - accuracy: 0.5307\n",
      "Epoch 54/100\n",
      "750/750 [==============================] - 0s 97us/sample - loss: 0.6913 - accuracy: 0.5307\n",
      "Epoch 55/100\n",
      "750/750 [==============================] - 0s 74us/sample - loss: 0.6913 - accuracy: 0.5307\n",
      "Epoch 56/100\n",
      "750/750 [==============================] - 0s 73us/sample - loss: 0.6913 - accuracy: 0.5307\n",
      "Epoch 57/100\n",
      "750/750 [==============================] - 0s 81us/sample - loss: 0.6913 - accuracy: 0.5307\n",
      "Epoch 58/100\n",
      "750/750 [==============================] - 0s 83us/sample - loss: 0.6913 - accuracy: 0.5307\n",
      "Epoch 59/100\n",
      "750/750 [==============================] - 0s 84us/sample - loss: 0.6913 - accuracy: 0.5307\n",
      "Epoch 60/100\n",
      "750/750 [==============================] - 0s 95us/sample - loss: 0.6913 - accuracy: 0.5307\n",
      "Epoch 61/100\n",
      "750/750 [==============================] - 0s 85us/sample - loss: 0.6913 - accuracy: 0.5307\n",
      "Epoch 62/100\n",
      "750/750 [==============================] - 0s 85us/sample - loss: 0.6913 - accuracy: 0.5307\n",
      "Epoch 63/100\n",
      "750/750 [==============================] - 0s 87us/sample - loss: 0.6914 - accuracy: 0.5307\n",
      "Epoch 64/100\n",
      "750/750 [==============================] - 0s 88us/sample - loss: 0.6913 - accuracy: 0.5307\n",
      "Epoch 65/100\n",
      "750/750 [==============================] - 0s 93us/sample - loss: 0.6913 - accuracy: 0.5307\n",
      "Epoch 66/100\n",
      "750/750 [==============================] - 0s 85us/sample - loss: 0.6913 - accuracy: 0.5307\n",
      "Epoch 67/100\n",
      "750/750 [==============================] - 0s 72us/sample - loss: 0.6913 - accuracy: 0.5307\n",
      "Epoch 68/100\n",
      "750/750 [==============================] - 0s 75us/sample - loss: 0.6913 - accuracy: 0.5307\n",
      "Epoch 69/100\n",
      "750/750 [==============================] - 0s 81us/sample - loss: 0.6913 - accuracy: 0.5307\n",
      "Epoch 70/100\n",
      "750/750 [==============================] - 0s 96us/sample - loss: 0.6913 - accuracy: 0.5307\n",
      "Epoch 71/100\n",
      "750/750 [==============================] - 0s 86us/sample - loss: 0.6913 - accuracy: 0.5307\n",
      "Epoch 72/100\n",
      "750/750 [==============================] - 0s 88us/sample - loss: 0.6913 - accuracy: 0.5307\n",
      "Epoch 73/100\n",
      "750/750 [==============================] - 0s 86us/sample - loss: 0.6913 - accuracy: 0.5307\n",
      "Epoch 74/100\n",
      "750/750 [==============================] - 0s 85us/sample - loss: 0.6913 - accuracy: 0.5307\n",
      "Epoch 75/100\n",
      "750/750 [==============================] - 0s 83us/sample - loss: 0.6913 - accuracy: 0.5307\n",
      "Epoch 76/100\n",
      "750/750 [==============================] - 0s 75us/sample - loss: 0.6913 - accuracy: 0.5307\n",
      "Epoch 77/100\n",
      "750/750 [==============================] - 0s 78us/sample - loss: 0.6913 - accuracy: 0.5307\n",
      "Epoch 78/100\n"
     ]
    },
    {
     "name": "stdout",
     "output_type": "stream",
     "text": [
      "750/750 [==============================] - 0s 84us/sample - loss: 0.6913 - accuracy: 0.5307\n",
      "Epoch 79/100\n",
      "750/750 [==============================] - 0s 80us/sample - loss: 0.6913 - accuracy: 0.5307\n",
      "Epoch 80/100\n",
      "750/750 [==============================] - 0s 75us/sample - loss: 0.6913 - accuracy: 0.5307\n",
      "Epoch 81/100\n",
      "750/750 [==============================] - 0s 79us/sample - loss: 0.6913 - accuracy: 0.5307\n",
      "Epoch 82/100\n",
      "750/750 [==============================] - 0s 75us/sample - loss: 0.6913 - accuracy: 0.5307\n",
      "Epoch 83/100\n",
      "750/750 [==============================] - 0s 75us/sample - loss: 0.6913 - accuracy: 0.5307\n",
      "Epoch 84/100\n",
      "750/750 [==============================] - 0s 82us/sample - loss: 0.6913 - accuracy: 0.5307\n",
      "Epoch 85/100\n",
      "750/750 [==============================] - 0s 80us/sample - loss: 0.6914 - accuracy: 0.5307\n",
      "Epoch 86/100\n",
      "750/750 [==============================] - 0s 78us/sample - loss: 0.6913 - accuracy: 0.5307\n",
      "Epoch 87/100\n",
      "750/750 [==============================] - 0s 78us/sample - loss: 0.6914 - accuracy: 0.5307\n",
      "Epoch 88/100\n",
      "750/750 [==============================] - 0s 96us/sample - loss: 0.6913 - accuracy: 0.5307\n",
      "Epoch 89/100\n",
      "750/750 [==============================] - 0s 163us/sample - loss: 0.6913 - accuracy: 0.5307\n",
      "Epoch 90/100\n",
      "750/750 [==============================] - 0s 100us/sample - loss: 0.6913 - accuracy: 0.5307\n",
      "Epoch 91/100\n",
      "750/750 [==============================] - 0s 91us/sample - loss: 0.6913 - accuracy: 0.5307\n",
      "Epoch 92/100\n",
      "750/750 [==============================] - 0s 103us/sample - loss: 0.6913 - accuracy: 0.5307\n",
      "Epoch 93/100\n",
      "750/750 [==============================] - 0s 96us/sample - loss: 0.6913 - accuracy: 0.5307\n",
      "Epoch 94/100\n",
      "750/750 [==============================] - 0s 163us/sample - loss: 0.6913 - accuracy: 0.5307\n",
      "Epoch 95/100\n",
      "750/750 [==============================] - 0s 215us/sample - loss: 0.6913 - accuracy: 0.5307\n",
      "Epoch 96/100\n",
      "750/750 [==============================] - 0s 142us/sample - loss: 0.6913 - accuracy: 0.5307\n",
      "Epoch 97/100\n",
      "750/750 [==============================] - 0s 105us/sample - loss: 0.6913 - accuracy: 0.5307\n",
      "Epoch 98/100\n",
      "750/750 [==============================] - 0s 97us/sample - loss: 0.6913 - accuracy: 0.5307\n",
      "Epoch 99/100\n",
      "750/750 [==============================] - 0s 91us/sample - loss: 0.6913 - accuracy: 0.5307\n",
      "Epoch 100/100\n",
      "750/750 [==============================] - 0s 140us/sample - loss: 0.6913 - accuracy: 0.5307\n"
     ]
    }
   ],
   "source": [
    "# Training the model with the nonlinear data\n",
    "model_moon = nn_model.fit(X_moon_train_scaled, y_moon_train, epochs = 100, shuffle = True)"
   ]
  },
  {
   "cell_type": "code",
   "execution_count": 18,
   "metadata": {},
   "outputs": [
    {
     "data": {
      "text/plain": [
       "<matplotlib.axes._subplots.AxesSubplot at 0x1a47837890>"
      ]
     },
     "execution_count": 18,
     "metadata": {},
     "output_type": "execute_result"
    },
    {
     "data": {
      "image/png": "[encoded data removed]",
      "text/plain": [
       "<Figure size 432x288 with 1 Axes>"
      ]
     },
     "metadata": {
      "needs_background": "light"
     },
     "output_type": "display_data"
    }
   ],
   "source": [
    "# Create a DataFrame containing training history\n",
    "history_df = pd.DataFrame(model_moon.history, index = range(1, len(model_moon.history[\"loss\"]) + 1))\n",
    "\n",
    "# Plot the loss\n",
    "history_df.plot(y = \"loss\")"
   ]
  },
  {
   "cell_type": "code",
   "execution_count": 19,
   "metadata": {},
   "outputs": [
    {
     "data": {
      "text/plain": [
       "<matplotlib.axes._subplots.AxesSubplot at 0x1a4764dc10>"
      ]
     },
     "execution_count": 19,
     "metadata": {},
     "output_type": "execute_result"
    },
    {
     "data": {
      "image/png": "[encoded data removed]",
      "text/plain": [
       "<Figure size 432x288 with 1 Axes>"
      ]
     },
     "metadata": {
      "needs_background": "light"
     },
     "output_type": "display_data"
    }
   ],
   "source": [
    "# Plot the loss\n",
    "history_df.plot(y = \"accuracy\")"
   ]
  },
  {
   "cell_type": "code",
   "execution_count": 20,
   "metadata": {},
   "outputs": [],
   "source": [
    "# Generate our new Sequential model\n",
    "new_model = tf.keras.models.Sequential()"
   ]
  },
  {
   "cell_type": "code",
   "execution_count": 21,
   "metadata": {},
   "outputs": [],
   "source": [
    "# Add the input and hidden layer\n",
    "number_inputs = 2\n",
    "number_hidden_nodes = 6\n",
    "\n",
    "new_model.add(tf.keras.layers.Dense(units = number_hidden_nodes, \n",
    "                                    activation = \"relu\", \n",
    "                                    input_dim = number_inputs))\n",
    "\n",
    "# Add the output layer that uses a probability activation function\n",
    "new_model.add(tf.keras.layers.Dense(units = 1, \n",
    "                                    activation = \"sigmoid\"))"
   ]
  },
  {
   "cell_type": "markdown",
   "metadata": {},
   "source": [
    "#### A good rule of thumb for a basic neural network is to have two to three times the amount of neurons in the hidden layer as the number of inputs. ####"
   ]
  },
  {
   "cell_type": "markdown",
   "metadata": {},
   "source": [
    "NOTE: Applying the neuron rule of thumb, we should use a neural network model with six neurons in the hidden layer to properly model our linear and nonlinear datasets."
   ]
  },
  {
   "cell_type": "code",
   "execution_count": 22,
   "metadata": {},
   "outputs": [
    {
     "name": "stdout",
     "output_type": "stream",
     "text": [
      "Train on 750 samples\n",
      "Epoch 1/100\n",
      "750/750 [==============================] - 1s 2ms/sample - loss: 0.6892 - accuracy: 0.4893\n",
      "Epoch 2/100\n",
      "750/750 [==============================] - 0s 196us/sample - loss: 0.6698 - accuracy: 0.5520\n",
      "Epoch 3/100\n",
      "750/750 [==============================] - 0s 189us/sample - loss: 0.6504 - accuracy: 0.6427\n",
      "Epoch 4/100\n",
      "750/750 [==============================] - 0s 198us/sample - loss: 0.6306 - accuracy: 0.7360\n",
      "Epoch 5/100\n",
      "750/750 [==============================] - 0s 150us/sample - loss: 0.6101 - accuracy: 0.7733\n",
      "Epoch 6/100\n",
      "750/750 [==============================] - 0s 143us/sample - loss: 0.5887 - accuracy: 0.8000\n",
      "Epoch 7/100\n",
      "750/750 [==============================] - 0s 176us/sample - loss: 0.5665 - accuracy: 0.8213\n",
      "Epoch 8/100\n",
      "750/750 [==============================] - 0s 178us/sample - loss: 0.5436 - accuracy: 0.8413\n",
      "Epoch 9/100\n",
      "750/750 [==============================] - 0s 159us/sample - loss: 0.5202 - accuracy: 0.8627\n",
      "Epoch 10/100\n",
      "750/750 [==============================] - 0s 200us/sample - loss: 0.4967 - accuracy: 0.8720\n",
      "Epoch 11/100\n",
      "750/750 [==============================] - 0s 197us/sample - loss: 0.4733 - accuracy: 0.8760\n",
      "Epoch 12/100\n",
      "750/750 [==============================] - 0s 151us/sample - loss: 0.4507 - accuracy: 0.8773\n",
      "Epoch 13/100\n",
      "750/750 [==============================] - 0s 224us/sample - loss: 0.4290 - accuracy: 0.8800\n",
      "Epoch 14/100\n",
      "750/750 [==============================] - 0s 199us/sample - loss: 0.4084 - accuracy: 0.8813\n",
      "Epoch 15/100\n",
      "750/750 [==============================] - 0s 180us/sample - loss: 0.3896 - accuracy: 0.8867\n",
      "Epoch 16/100\n",
      "750/750 [==============================] - 0s 170us/sample - loss: 0.3719 - accuracy: 0.8880\n",
      "Epoch 17/100\n",
      "750/750 [==============================] - 0s 160us/sample - loss: 0.3561 - accuracy: 0.8920\n",
      "Epoch 18/100\n",
      "750/750 [==============================] - 0s 332us/sample - loss: 0.3419 - accuracy: 0.8920\n",
      "Epoch 19/100\n",
      "750/750 [==============================] - 0s 154us/sample - loss: 0.3295 - accuracy: 0.8947\n",
      "Epoch 20/100\n",
      "750/750 [==============================] - 0s 160us/sample - loss: 0.3183 - accuracy: 0.8973\n",
      "Epoch 21/100\n",
      "750/750 [==============================] - 0s 140us/sample - loss: 0.3085 - accuracy: 0.8960\n",
      "Epoch 22/100\n",
      "750/750 [==============================] - 0s 198us/sample - loss: 0.2999 - accuracy: 0.8960\n",
      "Epoch 23/100\n",
      "750/750 [==============================] - 0s 103us/sample - loss: 0.2922 - accuracy: 0.8973\n",
      "Epoch 24/100\n",
      "750/750 [==============================] - 0s 82us/sample - loss: 0.2853 - accuracy: 0.8973\n",
      "Epoch 25/100\n",
      "750/750 [==============================] - 0s 85us/sample - loss: 0.2792 - accuracy: 0.8973\n",
      "Epoch 26/100\n",
      "750/750 [==============================] - 0s 81us/sample - loss: 0.2739 - accuracy: 0.8973\n",
      "Epoch 27/100\n",
      "750/750 [==============================] - 0s 72us/sample - loss: 0.2689 - accuracy: 0.8973\n",
      "Epoch 28/100\n",
      "750/750 [==============================] - 0s 74us/sample - loss: 0.2646 - accuracy: 0.8973\n",
      "Epoch 29/100\n",
      "750/750 [==============================] - 0s 82us/sample - loss: 0.2607 - accuracy: 0.8987\n",
      "Epoch 30/100\n",
      "750/750 [==============================] - 0s 80us/sample - loss: 0.2572 - accuracy: 0.9013\n",
      "Epoch 31/100\n",
      "750/750 [==============================] - 0s 84us/sample - loss: 0.2541 - accuracy: 0.9013\n",
      "Epoch 32/100\n",
      "750/750 [==============================] - 0s 88us/sample - loss: 0.2511 - accuracy: 0.9013\n",
      "Epoch 33/100\n",
      "750/750 [==============================] - 0s 90us/sample - loss: 0.2484 - accuracy: 0.9013\n",
      "Epoch 34/100\n",
      "750/750 [==============================] - 0s 95us/sample - loss: 0.2458 - accuracy: 0.9040\n",
      "Epoch 35/100\n",
      "750/750 [==============================] - 0s 90us/sample - loss: 0.2434 - accuracy: 0.9053\n",
      "Epoch 36/100\n",
      "750/750 [==============================] - 0s 88us/sample - loss: 0.2412 - accuracy: 0.9053\n",
      "Epoch 37/100\n",
      "750/750 [==============================] - 0s 87us/sample - loss: 0.2390 - accuracy: 0.9053\n",
      "Epoch 38/100\n",
      "750/750 [==============================] - 0s 76us/sample - loss: 0.2371 - accuracy: 0.9053\n",
      "Epoch 39/100\n",
      "750/750 [==============================] - 0s 74us/sample - loss: 0.2352 - accuracy: 0.9067\n",
      "Epoch 40/100\n",
      "750/750 [==============================] - 0s 81us/sample - loss: 0.2334 - accuracy: 0.9080\n",
      "Epoch 41/100\n",
      "750/750 [==============================] - 0s 97us/sample - loss: 0.2316 - accuracy: 0.9080\n",
      "Epoch 42/100\n",
      "750/750 [==============================] - 0s 92us/sample - loss: 0.2301 - accuracy: 0.9080\n",
      "Epoch 43/100\n",
      "750/750 [==============================] - 0s 88us/sample - loss: 0.2284 - accuracy: 0.9093\n",
      "Epoch 44/100\n",
      "750/750 [==============================] - 0s 92us/sample - loss: 0.2270 - accuracy: 0.9107\n",
      "Epoch 45/100\n",
      "750/750 [==============================] - 0s 88us/sample - loss: 0.2254 - accuracy: 0.9107\n",
      "Epoch 46/100\n",
      "750/750 [==============================] - 0s 86us/sample - loss: 0.2239 - accuracy: 0.9107\n",
      "Epoch 47/100\n",
      "750/750 [==============================] - 0s 104us/sample - loss: 0.2225 - accuracy: 0.9120\n",
      "Epoch 48/100\n",
      "750/750 [==============================] - 0s 87us/sample - loss: 0.2211 - accuracy: 0.9107\n",
      "Epoch 49/100\n",
      "750/750 [==============================] - 0s 88us/sample - loss: 0.2197 - accuracy: 0.9120\n",
      "Epoch 50/100\n",
      "750/750 [==============================] - 0s 84us/sample - loss: 0.2184 - accuracy: 0.9120\n",
      "Epoch 51/100\n",
      "750/750 [==============================] - 0s 86us/sample - loss: 0.2171 - accuracy: 0.9120\n",
      "Epoch 52/100\n",
      "750/750 [==============================] - 0s 80us/sample - loss: 0.2159 - accuracy: 0.9133\n",
      "Epoch 53/100\n",
      "750/750 [==============================] - 0s 81us/sample - loss: 0.2147 - accuracy: 0.9133\n",
      "Epoch 54/100\n",
      "750/750 [==============================] - 0s 83us/sample - loss: 0.2134 - accuracy: 0.9133\n",
      "Epoch 55/100\n",
      "750/750 [==============================] - 0s 83us/sample - loss: 0.2122 - accuracy: 0.9133\n",
      "Epoch 56/100\n",
      "750/750 [==============================] - 0s 89us/sample - loss: 0.2109 - accuracy: 0.9133\n",
      "Epoch 57/100\n",
      "750/750 [==============================] - 0s 80us/sample - loss: 0.2098 - accuracy: 0.9147\n",
      "Epoch 58/100\n",
      "750/750 [==============================] - 0s 75us/sample - loss: 0.2087 - accuracy: 0.9160\n",
      "Epoch 59/100\n",
      "750/750 [==============================] - 0s 81us/sample - loss: 0.2076 - accuracy: 0.9147\n",
      "Epoch 60/100\n",
      "750/750 [==============================] - 0s 82us/sample - loss: 0.2062 - accuracy: 0.9133\n",
      "Epoch 61/100\n",
      "750/750 [==============================] - 0s 82us/sample - loss: 0.2050 - accuracy: 0.9147\n",
      "Epoch 62/100\n",
      "750/750 [==============================] - 0s 86us/sample - loss: 0.2038 - accuracy: 0.9160\n",
      "Epoch 63/100\n",
      "750/750 [==============================] - 0s 87us/sample - loss: 0.2027 - accuracy: 0.9160\n",
      "Epoch 64/100\n",
      "750/750 [==============================] - 0s 92us/sample - loss: 0.2014 - accuracy: 0.9160\n",
      "Epoch 65/100\n",
      "750/750 [==============================] - 0s 87us/sample - loss: 0.2003 - accuracy: 0.9173\n",
      "Epoch 66/100\n",
      "750/750 [==============================] - 0s 89us/sample - loss: 0.1991 - accuracy: 0.9173\n",
      "Epoch 67/100\n",
      "750/750 [==============================] - 0s 90us/sample - loss: 0.1977 - accuracy: 0.9173\n",
      "Epoch 68/100\n",
      "750/750 [==============================] - 0s 88us/sample - loss: 0.1965 - accuracy: 0.9173\n",
      "Epoch 69/100\n",
      "750/750 [==============================] - 0s 85us/sample - loss: 0.1953 - accuracy: 0.9173\n",
      "Epoch 70/100\n",
      "750/750 [==============================] - 0s 88us/sample - loss: 0.1940 - accuracy: 0.9187\n",
      "Epoch 71/100\n",
      "750/750 [==============================] - ETA: 0s - loss: 0.1879 - accuracy: 0.92 - 0s 89us/sample - loss: 0.1928 - accuracy: 0.9187\n",
      "Epoch 72/100\n",
      "750/750 [==============================] - 0s 88us/sample - loss: 0.1916 - accuracy: 0.9187\n",
      "Epoch 73/100\n",
      "750/750 [==============================] - 0s 91us/sample - loss: 0.1903 - accuracy: 0.9213\n",
      "Epoch 74/100\n",
      "750/750 [==============================] - 0s 87us/sample - loss: 0.1891 - accuracy: 0.9213\n",
      "Epoch 75/100\n",
      "750/750 [==============================] - 0s 89us/sample - loss: 0.1878 - accuracy: 0.9227\n",
      "Epoch 76/100\n",
      "750/750 [==============================] - 0s 93us/sample - loss: 0.1863 - accuracy: 0.9240\n",
      "Epoch 77/100\n",
      "750/750 [==============================] - 0s 89us/sample - loss: 0.1851 - accuracy: 0.9240\n",
      "Epoch 78/100\n"
     ]
    },
    {
     "name": "stdout",
     "output_type": "stream",
     "text": [
      "750/750 [==============================] - 0s 82us/sample - loss: 0.1838 - accuracy: 0.9280\n",
      "Epoch 79/100\n",
      "750/750 [==============================] - 0s 80us/sample - loss: 0.1825 - accuracy: 0.9280\n",
      "Epoch 80/100\n",
      "750/750 [==============================] - 0s 80us/sample - loss: 0.1812 - accuracy: 0.9293\n",
      "Epoch 81/100\n",
      "750/750 [==============================] - 0s 88us/sample - loss: 0.1798 - accuracy: 0.9293\n",
      "Epoch 82/100\n",
      "750/750 [==============================] - 0s 90us/sample - loss: 0.1785 - accuracy: 0.9293\n",
      "Epoch 83/100\n",
      "750/750 [==============================] - 0s 82us/sample - loss: 0.1771 - accuracy: 0.9293\n",
      "Epoch 84/100\n",
      "750/750 [==============================] - 0s 80us/sample - loss: 0.1758 - accuracy: 0.9307\n",
      "Epoch 85/100\n",
      "750/750 [==============================] - 0s 79us/sample - loss: 0.1745 - accuracy: 0.9307\n",
      "Epoch 86/100\n",
      "750/750 [==============================] - 0s 80us/sample - loss: 0.1730 - accuracy: 0.9307\n",
      "Epoch 87/100\n",
      "750/750 [==============================] - 0s 86us/sample - loss: 0.1717 - accuracy: 0.9307\n",
      "Epoch 88/100\n",
      "750/750 [==============================] - 0s 79us/sample - loss: 0.1703 - accuracy: 0.9307\n",
      "Epoch 89/100\n",
      "750/750 [==============================] - 0s 79us/sample - loss: 0.1690 - accuracy: 0.9307\n",
      "Epoch 90/100\n",
      "750/750 [==============================] - 0s 96us/sample - loss: 0.1677 - accuracy: 0.9307\n",
      "Epoch 91/100\n",
      "750/750 [==============================] - 0s 92us/sample - loss: 0.1661 - accuracy: 0.9307\n",
      "Epoch 92/100\n",
      "750/750 [==============================] - 0s 127us/sample - loss: 0.1647 - accuracy: 0.9307\n",
      "Epoch 93/100\n",
      "750/750 [==============================] - 0s 158us/sample - loss: 0.1633 - accuracy: 0.9307\n",
      "Epoch 94/100\n",
      "750/750 [==============================] - 0s 181us/sample - loss: 0.1619 - accuracy: 0.9320\n",
      "Epoch 95/100\n",
      "750/750 [==============================] - 0s 127us/sample - loss: 0.1604 - accuracy: 0.9333\n",
      "Epoch 96/100\n",
      "750/750 [==============================] - 0s 107us/sample - loss: 0.1589 - accuracy: 0.9347\n",
      "Epoch 97/100\n",
      "750/750 [==============================] - 0s 114us/sample - loss: 0.1575 - accuracy: 0.9360\n",
      "Epoch 98/100\n",
      "750/750 [==============================] - 0s 146us/sample - loss: 0.1561 - accuracy: 0.9360\n",
      "Epoch 99/100\n",
      "750/750 [==============================] - 0s 99us/sample - loss: 0.1547 - accuracy: 0.9360\n",
      "Epoch 100/100\n",
      "750/750 [==============================] - 0s 83us/sample - loss: 0.1532 - accuracy: 0.9387\n"
     ]
    }
   ],
   "source": [
    "# Compile the Sequential model together and customize metrics\n",
    "new_model.compile(loss = \"binary_crossentropy\", \n",
    "                  optimizer = \"adam\", \n",
    "                  metrics = [\"accuracy\"])\n",
    "\n",
    "# Fit the model to the training data\n",
    "new_fit_model = new_model.fit(X_moon_train_scaled, \n",
    "                              y_moon_train, \n",
    "                              epochs = 100, \n",
    "                              shuffle = True)"
   ]
  },
  {
   "cell_type": "markdown",
   "metadata": {},
   "source": [
    "Now that our new Sequential model is defined, we need to compile and train the model using our nonlinear moon-shaped dummy data. For us to make direct comparisons with our single-neuron model, we’ll use the same training parameters, including loss metric, optimizer function, and number of epochs."
   ]
  },
  {
   "cell_type": "markdown",
   "metadata": {},
   "source": [
    "Looking at the training metrics of our new model, as we increase the number of neurons within the hidden layer, the classification accuracy improves. You may have noticed that adding multiple neurons to our neural network did not yield a perfect classification model. As input data becomes more complex, neural networks will require more and more optimization tweaks to achieve their desired accuracy."
   ]
  },
  {
   "cell_type": "code",
   "execution_count": null,
   "metadata": {},
   "outputs": [],
   "source": []
  }
 ],
 "metadata": {
  "kernelspec": {
   "display_name": "mlenv",
   "language": "python",
   "name": "mlenv"
  },
  "language_info": {
   "codemirror_mode": {
    "name": "ipython",
    "version": 3
   },
   "file_extension": ".py",
   "mimetype": "text/x-python",
   "name": "python",
   "nbconvert_exporter": "python",
   "pygments_lexer": "ipython3",
   "version": "3.7.7"
  }
 },
 "nbformat": 4,
 "nbformat_minor": 4
}
